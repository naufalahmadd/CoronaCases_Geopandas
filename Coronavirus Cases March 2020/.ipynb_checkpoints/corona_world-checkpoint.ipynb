{
 "cells": [
  {
   "cell_type": "markdown",
   "metadata": {},
   "source": [
    "<a id='top'></a>\n",
    "# MAPPING COVID-19 CASES AROUND THE WORLD USING GEOPANDAS\n",
    "Naufal Ahmad D. (https://github.com/naufalahmadd)"
   ]
  },
  {
   "cell_type": "markdown",
   "metadata": {},
   "source": [
    "<a id='toc'></a>\n",
    "## Table of Contents\n",
    "\n"
   ]
  },
  {
   "cell_type": "markdown",
   "metadata": {},
   "source": [
    "<ul>\n",
    "<li><a href=\"#toc\">Table of Contents</a></li>\n",
    "<li><a href=\"#importp\">Import Packages</a></li>\n",
    "<li><a href=\"#importd\">Import Dataset</a></li>\n",
    "<li><a href=\"#dtid\">Data Tidying</a></li>\n",
    "<li><a href=\"#maptime\">Mapping Time!</a></li>\n",
    "</ul>"
   ]
  },
  {
   "cell_type": "markdown",
   "metadata": {},
   "source": [
    "<a id='importp'></a>\n",
    "## 1. Import Packages\n",
    "\n",
    "\n",
    "<ul>\n",
    "<a href=\"#top\">back to top</a>\n",
    "</ul>"
   ]
  },
  {
   "cell_type": "code",
   "execution_count": 1,
   "metadata": {},
   "outputs": [],
   "source": [
    "import requests\n",
    "import lxml.html as lh\n",
    "import pandas as pd\n",
    "import geopandas as gpd\n",
    "import numpy as np\n",
    "import matplotlib.pyplot as plt\n",
    "\n",
    "%matplotlib inline"
   ]
  },
  {
   "cell_type": "markdown",
   "metadata": {},
   "source": [
    "<a id='importd'></a>\n",
    "## 2. Import Dataset\n",
    "\n",
    "\n",
    "<ul>\n",
    "<a href=\"#top\">back to top</a>\n",
    "</ul>"
   ]
  },
  {
   "cell_type": "markdown",
   "metadata": {},
   "source": [
    "### Import and Create DataFrame from 'https://www.worldometers.info/coronavirus/'"
   ]
  },
  {
   "cell_type": "code",
   "execution_count": 2,
   "metadata": {},
   "outputs": [],
   "source": [
    "# refer url\n",
    "url = 'https://www.worldometers.info/coronavirus/'\n",
    "\n",
    "# create handle\n",
    "page = requests.get(url)\n",
    "\n",
    "# store the contents\n",
    "doc = lh.fromstring(page.content)"
   ]
  },
  {
   "cell_type": "code",
   "execution_count": 3,
   "metadata": {},
   "outputs": [],
   "source": [
    "tr_elements = doc.xpath('//tr')"
   ]
  },
  {
   "cell_type": "code",
   "execution_count": 4,
   "metadata": {},
   "outputs": [
    {
     "data": {
      "text/plain": [
       "[19, 19, 19, 19, 19, 19, 19, 19, 19, 19, 19, 19]"
      ]
     },
     "execution_count": 4,
     "metadata": {},
     "output_type": "execute_result"
    }
   ],
   "source": [
    "# check the length of first 12 rows\n",
    "[len(T) for T in tr_elements[:12]]"
   ]
  },
  {
   "cell_type": "code",
   "execution_count": 5,
   "metadata": {},
   "outputs": [
    {
     "data": {
      "text/plain": [
       "19"
      ]
     },
     "execution_count": 5,
     "metadata": {},
     "output_type": "execute_result"
    }
   ],
   "source": [
    "len(tr_elements[1])"
   ]
  },
  {
   "cell_type": "code",
   "execution_count": 6,
   "metadata": {},
   "outputs": [],
   "source": [
    "# Parse table header\n",
    "tr_elements = doc.xpath('//tr')\n",
    "\n",
    "col=[]\n",
    "i=0"
   ]
  },
  {
   "cell_type": "code",
   "execution_count": 7,
   "metadata": {
    "tags": []
   },
   "outputs": [
    {
     "name": "stdout",
     "output_type": "stream",
     "text": [
      "# 1\n",
      "Country,Other 2\n",
      "TotalCases 3\n",
      "NewCases 4\n",
      "TotalDeaths 5\n",
      "NewDeaths 6\n",
      "TotalRecovered 7\n",
      "NewRecovered 8\n",
      "ActiveCases 9\n",
      "Serious,Critical 10\n",
      "Tot Cases/1M pop 11\n",
      "Deaths/1M pop 12\n",
      "TotalTests 13\n",
      "Tests/\n",
      "1M pop\n",
      " 14\n",
      "Population 15\n",
      "Continent 16\n",
      "1 Caseevery X ppl 17\n",
      "1 Deathevery X ppl 18\n",
      "1 Testevery X ppl 19\n"
     ]
    }
   ],
   "source": [
    "for t in tr_elements[0]:\n",
    "    i+=1\n",
    "    name=t.text_content()\n",
    "    print('%s %d' % (name, i))\n",
    "    col.append((name,[]))"
   ]
  },
  {
   "cell_type": "code",
   "execution_count": 8,
   "metadata": {},
   "outputs": [],
   "source": [
    "#Since out first row is the header, data is stored on the second row onwards\n",
    "for j in range(1,len(tr_elements)):\n",
    "    #T is our j'th row\n",
    "    T=tr_elements[j]\n",
    "    \n",
    "    #If row is not of size 10, the //tr data is not from our table \n",
    "    if len(T)!=len(tr_elements[1]):\n",
    "        break\n",
    "    \n",
    "    #i is the index of our column\n",
    "    i=0\n",
    "    \n",
    "    #Iterate through each element of the row\n",
    "    for t in T.iterchildren():\n",
    "        data=t.text_content() \n",
    "        #Check if row is empty\n",
    "        if i>0:\n",
    "        #Convert any numerical value to integers\n",
    "            try:\n",
    "                data=int(data)\n",
    "            except:\n",
    "                pass\n",
    "        #Append the data to the empty list of the i'th column\n",
    "        col[i][1].append(data)\n",
    "        #Increment i for the next column\n",
    "        i+=1"
   ]
  },
  {
   "cell_type": "code",
   "execution_count": 9,
   "metadata": {},
   "outputs": [
    {
     "data": {
      "text/plain": [
       "[695,\n",
       " 695,\n",
       " 695,\n",
       " 695,\n",
       " 695,\n",
       " 695,\n",
       " 695,\n",
       " 695,\n",
       " 695,\n",
       " 695,\n",
       " 695,\n",
       " 695,\n",
       " 695,\n",
       " 695,\n",
       " 695,\n",
       " 695,\n",
       " 695,\n",
       " 695,\n",
       " 695]"
      ]
     },
     "execution_count": 9,
     "metadata": {},
     "output_type": "execute_result"
    }
   ],
   "source": [
    "[len(C) for (title,C) in col]"
   ]
  },
  {
   "cell_type": "code",
   "execution_count": 10,
   "metadata": {},
   "outputs": [
    {
     "data": {
      "text/plain": [
       "Index(['#', 'Country,Other', 'TotalCases', 'NewCases', 'TotalDeaths',\n",
       "       'NewDeaths', 'TotalRecovered', 'NewRecovered', 'ActiveCases',\n",
       "       'Serious,Critical', 'Tot Cases/1M pop', 'Deaths/1M pop', 'TotalTests',\n",
       "       'Tests/\\n1M pop\\n', 'Population', 'Continent', '1 Caseevery X ppl',\n",
       "       '1 Deathevery X ppl', '1 Testevery X ppl'],\n",
       "      dtype='object')"
      ]
     },
     "execution_count": 10,
     "metadata": {},
     "output_type": "execute_result"
    }
   ],
   "source": [
    "Dict = {title:column for (title,column) in col}\n",
    "df = pd.DataFrame(Dict)\n",
    "df.columns"
   ]
  },
  {
   "cell_type": "code",
   "execution_count": 11,
   "metadata": {},
   "outputs": [],
   "source": [
    "df = df[['Country,Other', 'TotalCases','ActiveCases', 'Population']]"
   ]
  },
  {
   "cell_type": "code",
   "execution_count": 12,
   "metadata": {},
   "outputs": [
    {
     "data": {
      "text/html": [
       "<div>\n",
       "<style scoped>\n",
       "    .dataframe tbody tr th:only-of-type {\n",
       "        vertical-align: middle;\n",
       "    }\n",
       "\n",
       "    .dataframe tbody tr th {\n",
       "        vertical-align: top;\n",
       "    }\n",
       "\n",
       "    .dataframe thead th {\n",
       "        text-align: right;\n",
       "    }\n",
       "</style>\n",
       "<table border=\"1\" class=\"dataframe\">\n",
       "  <thead>\n",
       "    <tr style=\"text-align: right;\">\n",
       "      <th></th>\n",
       "      <th>Country,Other</th>\n",
       "      <th>TotalCases</th>\n",
       "      <th>ActiveCases</th>\n",
       "      <th>Population</th>\n",
       "    </tr>\n",
       "  </thead>\n",
       "  <tbody>\n",
       "    <tr>\n",
       "      <th>0</th>\n",
       "      <td>\\nNorth America\\n</td>\n",
       "      <td>2,545,743</td>\n",
       "      <td>1,278,185</td>\n",
       "      <td></td>\n",
       "    </tr>\n",
       "    <tr>\n",
       "      <th>1</th>\n",
       "      <td>\\nSouth America\\n</td>\n",
       "      <td>1,514,498</td>\n",
       "      <td>631,317</td>\n",
       "      <td></td>\n",
       "    </tr>\n",
       "    <tr>\n",
       "      <th>2</th>\n",
       "      <td>\\nEurope\\n</td>\n",
       "      <td>2,246,371</td>\n",
       "      <td>859,121</td>\n",
       "      <td></td>\n",
       "    </tr>\n",
       "    <tr>\n",
       "      <th>3</th>\n",
       "      <td>\\nAsia\\n</td>\n",
       "      <td>1,716,485</td>\n",
       "      <td>598,642</td>\n",
       "      <td></td>\n",
       "    </tr>\n",
       "    <tr>\n",
       "      <th>4</th>\n",
       "      <td>\\nAfrica\\n</td>\n",
       "      <td>262,350</td>\n",
       "      <td>133,811</td>\n",
       "      <td></td>\n",
       "    </tr>\n",
       "  </tbody>\n",
       "</table>\n",
       "</div>"
      ],
      "text/plain": [
       "       Country,Other TotalCases ActiveCases Population\n",
       "0  \\nNorth America\\n  2,545,743   1,278,185           \n",
       "1  \\nSouth America\\n  1,514,498     631,317           \n",
       "2         \\nEurope\\n  2,246,371     859,121           \n",
       "3           \\nAsia\\n  1,716,485     598,642           \n",
       "4         \\nAfrica\\n    262,350     133,811           "
      ]
     },
     "execution_count": 12,
     "metadata": {},
     "output_type": "execute_result"
    }
   ],
   "source": [
    "df.head()"
   ]
  },
  {
   "cell_type": "markdown",
   "metadata": {},
   "source": [
    "### Import the World Map in .shp"
   ]
  },
  {
   "cell_type": "code",
   "execution_count": 13,
   "metadata": {},
   "outputs": [],
   "source": [
    "map = gpd.read_file('World_Map.shp')"
   ]
  },
  {
   "cell_type": "code",
   "execution_count": 14,
   "metadata": {},
   "outputs": [
    {
     "data": {
      "text/html": [
       "<div>\n",
       "<style scoped>\n",
       "    .dataframe tbody tr th:only-of-type {\n",
       "        vertical-align: middle;\n",
       "    }\n",
       "\n",
       "    .dataframe tbody tr th {\n",
       "        vertical-align: top;\n",
       "    }\n",
       "\n",
       "    .dataframe thead th {\n",
       "        text-align: right;\n",
       "    }\n",
       "</style>\n",
       "<table border=\"1\" class=\"dataframe\">\n",
       "  <thead>\n",
       "    <tr style=\"text-align: right;\">\n",
       "      <th></th>\n",
       "      <th>NAME</th>\n",
       "      <th>geometry</th>\n",
       "    </tr>\n",
       "  </thead>\n",
       "  <tbody>\n",
       "    <tr>\n",
       "      <th>0</th>\n",
       "      <td>Antigua and Barbuda</td>\n",
       "      <td>MULTIPOLYGON (((-61.68667 17.02444, -61.73806 ...</td>\n",
       "    </tr>\n",
       "    <tr>\n",
       "      <th>1</th>\n",
       "      <td>Algeria</td>\n",
       "      <td>POLYGON ((2.96361 36.80222, 2.98139 36.80694, ...</td>\n",
       "    </tr>\n",
       "    <tr>\n",
       "      <th>2</th>\n",
       "      <td>Azerbaijan</td>\n",
       "      <td>MULTIPOLYGON (((45.08332 39.76804, 45.26639 39...</td>\n",
       "    </tr>\n",
       "    <tr>\n",
       "      <th>3</th>\n",
       "      <td>Albania</td>\n",
       "      <td>POLYGON ((19.43621 41.02107, 19.45055 41.06000...</td>\n",
       "    </tr>\n",
       "    <tr>\n",
       "      <th>4</th>\n",
       "      <td>Armenia</td>\n",
       "      <td>MULTIPOLYGON (((45.57305 40.63249, 45.52888 40...</td>\n",
       "    </tr>\n",
       "  </tbody>\n",
       "</table>\n",
       "</div>"
      ],
      "text/plain": [
       "                  NAME                                           geometry\n",
       "0  Antigua and Barbuda  MULTIPOLYGON (((-61.68667 17.02444, -61.73806 ...\n",
       "1              Algeria  POLYGON ((2.96361 36.80222, 2.98139 36.80694, ...\n",
       "2           Azerbaijan  MULTIPOLYGON (((45.08332 39.76804, 45.26639 39...\n",
       "3              Albania  POLYGON ((19.43621 41.02107, 19.45055 41.06000...\n",
       "4              Armenia  MULTIPOLYGON (((45.57305 40.63249, 45.52888 40..."
      ]
     },
     "execution_count": 14,
     "metadata": {},
     "output_type": "execute_result"
    }
   ],
   "source": [
    "map.head()"
   ]
  },
  {
   "cell_type": "markdown",
   "metadata": {},
   "source": [
    "<a id='dtid'></a>\n",
    "## 3. Data Tidying\n",
    "\n",
    "\n",
    "<ul>\n",
    "<a href=\"#top\">back to top</a>\n",
    "</ul>"
   ]
  },
  {
   "cell_type": "markdown",
   "metadata": {},
   "source": [
    "### Create 'df1': dataset that only contains countries that exist in both 'df' and 'map.'"
   ]
  },
  {
   "cell_type": "code",
   "execution_count": 15,
   "metadata": {},
   "outputs": [],
   "source": [
    "# Find countries in 'df' that is not in 'map'\n",
    "df_notin_map = []\n",
    "for i in df['Country,Other'].tolist():\n",
    "    map_list = map['NAME'].tolist()\n",
    "    if i in  map_list:\n",
    "        pass\n",
    "    else:\n",
    "        df_notin_map.append(i)"
   ]
  },
  {
   "cell_type": "code",
   "execution_count": 16,
   "metadata": {},
   "outputs": [],
   "source": [
    "df1 = df.set_index('Country,Other')"
   ]
  },
  {
   "cell_type": "code",
   "execution_count": 17,
   "metadata": {},
   "outputs": [],
   "source": [
    "# Drop countries in 'df' that is not in 'map'\n",
    "df1 = df1.drop(df_notin_map)"
   ]
  },
  {
   "cell_type": "code",
   "execution_count": 18,
   "metadata": {},
   "outputs": [],
   "source": [
    "df1 = df1.sort_values(by='Country,Other')"
   ]
  },
  {
   "cell_type": "code",
   "execution_count": 19,
   "metadata": {},
   "outputs": [
    {
     "data": {
      "text/html": [
       "<div>\n",
       "<style scoped>\n",
       "    .dataframe tbody tr th:only-of-type {\n",
       "        vertical-align: middle;\n",
       "    }\n",
       "\n",
       "    .dataframe tbody tr th {\n",
       "        vertical-align: top;\n",
       "    }\n",
       "\n",
       "    .dataframe thead th {\n",
       "        text-align: right;\n",
       "    }\n",
       "</style>\n",
       "<table border=\"1\" class=\"dataframe\">\n",
       "  <thead>\n",
       "    <tr style=\"text-align: right;\">\n",
       "      <th></th>\n",
       "      <th>TotalCases</th>\n",
       "      <th>ActiveCases</th>\n",
       "      <th>Population</th>\n",
       "    </tr>\n",
       "    <tr>\n",
       "      <th>Country,Other</th>\n",
       "      <th></th>\n",
       "      <th></th>\n",
       "      <th></th>\n",
       "    </tr>\n",
       "  </thead>\n",
       "  <tbody>\n",
       "    <tr>\n",
       "      <th>Afghanistan</th>\n",
       "      <td>26,874</td>\n",
       "      <td>20,212</td>\n",
       "      <td>38,886,984</td>\n",
       "    </tr>\n",
       "    <tr>\n",
       "      <th>Afghanistan</th>\n",
       "      <td>25,527</td>\n",
       "      <td>19,885</td>\n",
       "      <td>38,886,984</td>\n",
       "    </tr>\n",
       "    <tr>\n",
       "      <th>Afghanistan</th>\n",
       "      <td>26,310</td>\n",
       "      <td>20,311</td>\n",
       "      <td>38,886,984</td>\n",
       "    </tr>\n",
       "    <tr>\n",
       "      <th>Albania</th>\n",
       "      <td>1,722</td>\n",
       "      <td>607</td>\n",
       "      <td>2,877,906</td>\n",
       "    </tr>\n",
       "    <tr>\n",
       "      <th>Albania</th>\n",
       "      <td>1,672</td>\n",
       "      <td>571</td>\n",
       "      <td>2,877,906</td>\n",
       "    </tr>\n",
       "  </tbody>\n",
       "</table>\n",
       "</div>"
      ],
      "text/plain": [
       "              TotalCases ActiveCases   Population\n",
       "Country,Other                                    \n",
       "Afghanistan       26,874      20,212  38,886,984 \n",
       "Afghanistan       25,527      19,885  38,886,984 \n",
       "Afghanistan       26,310      20,311  38,886,984 \n",
       "Albania            1,722         607   2,877,906 \n",
       "Albania            1,672         571   2,877,906 "
      ]
     },
     "execution_count": 19,
     "metadata": {},
     "output_type": "execute_result"
    }
   ],
   "source": [
    "df1.head()"
   ]
  },
  {
   "cell_type": "code",
   "execution_count": 20,
   "metadata": {},
   "outputs": [
    {
     "data": {
      "text/plain": [
       "Country,Other\n",
       "Afghanistan    False\n",
       "Afghanistan    False\n",
       "Afghanistan    False\n",
       "Albania        False\n",
       "Albania        False\n",
       "               ...  \n",
       "Zambia         False\n",
       "Zambia          True\n",
       "Zimbabwe       False\n",
       "Zimbabwe       False\n",
       "Zimbabwe        True\n",
       "Length: 537, dtype: bool"
      ]
     },
     "execution_count": 20,
     "metadata": {},
     "output_type": "execute_result"
    }
   ],
   "source": [
    "# Check and romove duplicates\n",
    "df1.duplicated()"
   ]
  },
  {
   "cell_type": "code",
   "execution_count": 21,
   "metadata": {},
   "outputs": [
    {
     "data": {
      "text/plain": [
       "143"
      ]
     },
     "execution_count": 21,
     "metadata": {},
     "output_type": "execute_result"
    }
   ],
   "source": [
    "df1.duplicated().sum()"
   ]
  },
  {
   "cell_type": "code",
   "execution_count": 22,
   "metadata": {},
   "outputs": [
    {
     "data": {
      "text/html": [
       "<div>\n",
       "<style scoped>\n",
       "    .dataframe tbody tr th:only-of-type {\n",
       "        vertical-align: middle;\n",
       "    }\n",
       "\n",
       "    .dataframe tbody tr th {\n",
       "        vertical-align: top;\n",
       "    }\n",
       "\n",
       "    .dataframe thead th {\n",
       "        text-align: right;\n",
       "    }\n",
       "</style>\n",
       "<table border=\"1\" class=\"dataframe\">\n",
       "  <thead>\n",
       "    <tr style=\"text-align: right;\">\n",
       "      <th></th>\n",
       "      <th>TotalCases</th>\n",
       "      <th>ActiveCases</th>\n",
       "      <th>Population</th>\n",
       "    </tr>\n",
       "    <tr>\n",
       "      <th>Country,Other</th>\n",
       "      <th></th>\n",
       "      <th></th>\n",
       "      <th></th>\n",
       "    </tr>\n",
       "  </thead>\n",
       "  <tbody>\n",
       "    <tr>\n",
       "      <th>Afghanistan</th>\n",
       "      <td>26,310</td>\n",
       "      <td>20,311</td>\n",
       "      <td>38,886,984</td>\n",
       "    </tr>\n",
       "    <tr>\n",
       "      <th>Albania</th>\n",
       "      <td>1,590</td>\n",
       "      <td>499</td>\n",
       "      <td>2,877,906</td>\n",
       "    </tr>\n",
       "    <tr>\n",
       "      <th>Algeria</th>\n",
       "      <td>11,031</td>\n",
       "      <td>2,519</td>\n",
       "      <td>43,815,597</td>\n",
       "    </tr>\n",
       "    <tr>\n",
       "      <th>Andorra</th>\n",
       "      <td>854</td>\n",
       "      <td>13</td>\n",
       "      <td>77,261</td>\n",
       "    </tr>\n",
       "    <tr>\n",
       "      <th>Angola</th>\n",
       "      <td>142</td>\n",
       "      <td>72</td>\n",
       "      <td>32,813,171</td>\n",
       "    </tr>\n",
       "  </tbody>\n",
       "</table>\n",
       "</div>"
      ],
      "text/plain": [
       "              TotalCases ActiveCases   Population\n",
       "Country,Other                                    \n",
       "Afghanistan       26,310      20,311  38,886,984 \n",
       "Albania            1,590         499   2,877,906 \n",
       "Algeria           11,031       2,519  43,815,597 \n",
       "Andorra              854          13      77,261 \n",
       "Angola               142          72  32,813,171 "
      ]
     },
     "execution_count": 22,
     "metadata": {},
     "output_type": "execute_result"
    }
   ],
   "source": [
    "df1 = df1[~df1.index.duplicated(keep='last')]\n",
    "df1.head()"
   ]
  },
  {
   "cell_type": "markdown",
   "metadata": {},
   "source": [
    "### Create df2: Dataset with these countries as index\n",
    "\n",
    " 'USA',\n",
    " 'UK',\n",
    " 'Iran',\n",
    " 'UAE',\n",
    " 'S. Korea',\n",
    " 'Moldova',\n",
    " 'Czechia',\n",
    " 'Ivory Coast',\n",
    " 'DRC',\n",
    " 'North Macedonia',\n",
    " 'CAR',\n",
    " 'South Sudan',\n",
    " 'Cabo Verde',\n",
    " 'Diamond Princess',\n",
    " 'Channel Islands',\n",
    " 'Tanzania',\n",
    " 'Eswatini',\n",
    " 'Réunion',\n",
    " 'Libya',\n",
    " 'Vietnam',\n",
    " 'Myanmar',\n",
    " 'Faeroe Islands',\n",
    " 'Syria',\n",
    " 'Brunei ',\n",
    " 'Sint Maarten',\n",
    " 'Macao',\n",
    " 'St. Vincent Grenadines',\n",
    " 'Curaçao',\n",
    " 'Laos',\n",
    " 'Falkland Islands',\n",
    " 'Turks and Caicos',\n",
    " 'Vatican City',\n",
    " 'MS Zaandam',\n",
    " 'Caribbean Netherlands',\n",
    " 'St. Barth',\n",
    " 'Saint Pierre Miquelon',\n"
   ]
  },
  {
   "cell_type": "code",
   "execution_count": 23,
   "metadata": {},
   "outputs": [],
   "source": [
    "df2 = df.set_index('Country,Other')"
   ]
  },
  {
   "cell_type": "code",
   "execution_count": 24,
   "metadata": {},
   "outputs": [
    {
     "data": {
      "text/html": [
       "<div>\n",
       "<style scoped>\n",
       "    .dataframe tbody tr th:only-of-type {\n",
       "        vertical-align: middle;\n",
       "    }\n",
       "\n",
       "    .dataframe tbody tr th {\n",
       "        vertical-align: top;\n",
       "    }\n",
       "\n",
       "    .dataframe thead th {\n",
       "        text-align: right;\n",
       "    }\n",
       "</style>\n",
       "<table border=\"1\" class=\"dataframe\">\n",
       "  <thead>\n",
       "    <tr style=\"text-align: right;\">\n",
       "      <th></th>\n",
       "      <th>TotalCases</th>\n",
       "      <th>ActiveCases</th>\n",
       "      <th>Population</th>\n",
       "    </tr>\n",
       "    <tr>\n",
       "      <th>Country,Other</th>\n",
       "      <th></th>\n",
       "      <th></th>\n",
       "      <th></th>\n",
       "    </tr>\n",
       "  </thead>\n",
       "  <tbody>\n",
       "    <tr>\n",
       "      <th>USA</th>\n",
       "      <td>2,208,787</td>\n",
       "      <td>1,186,506</td>\n",
       "      <td>330,928,170</td>\n",
       "    </tr>\n",
       "    <tr>\n",
       "      <th>USA</th>\n",
       "      <td>2,208,400</td>\n",
       "      <td>1,186,227</td>\n",
       "      <td>330,928,170</td>\n",
       "    </tr>\n",
       "    <tr>\n",
       "      <th>USA</th>\n",
       "      <td>2,182,950</td>\n",
       "      <td>1,174,801</td>\n",
       "      <td>330,928,170</td>\n",
       "    </tr>\n",
       "    <tr>\n",
       "      <th>UK</th>\n",
       "      <td>298,136</td>\n",
       "      <td>N/A</td>\n",
       "      <td>67,872,439</td>\n",
       "    </tr>\n",
       "    <tr>\n",
       "      <th>UK</th>\n",
       "      <td>298,136</td>\n",
       "      <td>N/A</td>\n",
       "      <td>67,872,439</td>\n",
       "    </tr>\n",
       "  </tbody>\n",
       "</table>\n",
       "</div>"
      ],
      "text/plain": [
       "              TotalCases ActiveCases    Population\n",
       "Country,Other                                     \n",
       "USA            2,208,787   1,186,506  330,928,170 \n",
       "USA            2,208,400   1,186,227  330,928,170 \n",
       "USA            2,182,950   1,174,801  330,928,170 \n",
       "UK               298,136         N/A   67,872,439 \n",
       "UK               298,136         N/A   67,872,439 "
      ]
     },
     "execution_count": 24,
     "metadata": {},
     "output_type": "execute_result"
    }
   ],
   "source": [
    "# Choose countries that is dropped in 'df1' but actually exist in 'map' with different names\n",
    "df2 = df2.loc[['USA', 'UK', 'Iran', 'UAE', 'S. Korea', 'Moldova', 'Czechia', 'Ivory Coast', 'DRC', 'North Macedonia', 'CAR', 'South Sudan', 'Cabo Verde', 'Diamond Princess', 'Channel Islands', 'Tanzania', 'Eswatini', 'Réunion', 'Libya', 'Vietnam', 'Myanmar', 'Faeroe Islands', 'Syria', 'Brunei ', 'Sint Maarten', 'Macao', 'St. Vincent Grenadines', 'Curaçao', 'Laos', 'Falkland Islands', 'Turks and Caicos', 'Vatican City', 'MS Zaandam', 'Caribbean Netherlands', 'St. Barth', 'Saint Pierre Miquelon']]\n",
    "df2.head()"
   ]
  },
  {
   "cell_type": "code",
   "execution_count": 25,
   "metadata": {},
   "outputs": [
    {
     "data": {
      "text/html": [
       "<div>\n",
       "<style scoped>\n",
       "    .dataframe tbody tr th:only-of-type {\n",
       "        vertical-align: middle;\n",
       "    }\n",
       "\n",
       "    .dataframe tbody tr th {\n",
       "        vertical-align: top;\n",
       "    }\n",
       "\n",
       "    .dataframe thead th {\n",
       "        text-align: right;\n",
       "    }\n",
       "</style>\n",
       "<table border=\"1\" class=\"dataframe\">\n",
       "  <thead>\n",
       "    <tr style=\"text-align: right;\">\n",
       "      <th></th>\n",
       "      <th>TotalCases</th>\n",
       "      <th>ActiveCases</th>\n",
       "      <th>Population</th>\n",
       "    </tr>\n",
       "    <tr>\n",
       "      <th>Country,Other</th>\n",
       "      <th></th>\n",
       "      <th></th>\n",
       "      <th></th>\n",
       "    </tr>\n",
       "  </thead>\n",
       "  <tbody>\n",
       "    <tr>\n",
       "      <th>Brunei</th>\n",
       "      <td>141</td>\n",
       "      <td>0</td>\n",
       "      <td>437,310</td>\n",
       "    </tr>\n",
       "    <tr>\n",
       "      <th>Brunei</th>\n",
       "      <td>141</td>\n",
       "      <td>1</td>\n",
       "      <td>437,310</td>\n",
       "    </tr>\n",
       "    <tr>\n",
       "      <th>Brunei</th>\n",
       "      <td>141</td>\n",
       "      <td>0</td>\n",
       "      <td>437,310</td>\n",
       "    </tr>\n",
       "    <tr>\n",
       "      <th>CAR</th>\n",
       "      <td>2,410</td>\n",
       "      <td>2,000</td>\n",
       "      <td>4,826,038</td>\n",
       "    </tr>\n",
       "    <tr>\n",
       "      <th>CAR</th>\n",
       "      <td>2,410</td>\n",
       "      <td>2,000</td>\n",
       "      <td>4,826,038</td>\n",
       "    </tr>\n",
       "    <tr>\n",
       "      <th>CAR</th>\n",
       "      <td>2,222</td>\n",
       "      <td>1,846</td>\n",
       "      <td>4,826,038</td>\n",
       "    </tr>\n",
       "    <tr>\n",
       "      <th>Cabo Verde</th>\n",
       "      <td>781</td>\n",
       "      <td>420</td>\n",
       "      <td>555,740</td>\n",
       "    </tr>\n",
       "    <tr>\n",
       "      <th>Cabo Verde</th>\n",
       "      <td>781</td>\n",
       "      <td>420</td>\n",
       "      <td>555,740</td>\n",
       "    </tr>\n",
       "    <tr>\n",
       "      <th>Cabo Verde</th>\n",
       "      <td>760</td>\n",
       "      <td>413</td>\n",
       "      <td>555,740</td>\n",
       "    </tr>\n",
       "  </tbody>\n",
       "</table>\n",
       "</div>"
      ],
      "text/plain": [
       "              TotalCases ActiveCases  Population\n",
       "Country,Other                                   \n",
       "Brunei               141           0    437,310 \n",
       "Brunei               141           1    437,310 \n",
       "Brunei               141           0    437,310 \n",
       "CAR                2,410       2,000  4,826,038 \n",
       "CAR                2,410       2,000  4,826,038 \n",
       "CAR                2,222       1,846  4,826,038 \n",
       "Cabo Verde           781         420    555,740 \n",
       "Cabo Verde           781         420    555,740 \n",
       "Cabo Verde           760         413    555,740 "
      ]
     },
     "execution_count": 25,
     "metadata": {},
     "output_type": "execute_result"
    }
   ],
   "source": [
    "df2.sort_values('Country,Other').head(9)"
   ]
  },
  {
   "cell_type": "code",
   "execution_count": 26,
   "metadata": {},
   "outputs": [],
   "source": [
    "# drop duplicated observations, keep the first one\n",
    "df2 = df2[~df2.index.duplicated(keep='first')]"
   ]
  },
  {
   "cell_type": "code",
   "execution_count": 27,
   "metadata": {},
   "outputs": [
    {
     "data": {
      "text/html": [
       "<div>\n",
       "<style scoped>\n",
       "    .dataframe tbody tr th:only-of-type {\n",
       "        vertical-align: middle;\n",
       "    }\n",
       "\n",
       "    .dataframe tbody tr th {\n",
       "        vertical-align: top;\n",
       "    }\n",
       "\n",
       "    .dataframe thead th {\n",
       "        text-align: right;\n",
       "    }\n",
       "</style>\n",
       "<table border=\"1\" class=\"dataframe\">\n",
       "  <thead>\n",
       "    <tr style=\"text-align: right;\">\n",
       "      <th></th>\n",
       "      <th>TotalCases</th>\n",
       "      <th>ActiveCases</th>\n",
       "      <th>Population</th>\n",
       "    </tr>\n",
       "    <tr>\n",
       "      <th>Country,Other</th>\n",
       "      <th></th>\n",
       "      <th></th>\n",
       "      <th></th>\n",
       "    </tr>\n",
       "  </thead>\n",
       "  <tbody>\n",
       "    <tr>\n",
       "      <th>USA</th>\n",
       "      <td>2,208,787</td>\n",
       "      <td>1,186,506</td>\n",
       "      <td>330,928,170</td>\n",
       "    </tr>\n",
       "    <tr>\n",
       "      <th>UK</th>\n",
       "      <td>298,136</td>\n",
       "      <td>N/A</td>\n",
       "      <td>67,872,439</td>\n",
       "    </tr>\n",
       "    <tr>\n",
       "      <th>Iran</th>\n",
       "      <td>195,051</td>\n",
       "      <td>31,054</td>\n",
       "      <td>83,947,823</td>\n",
       "    </tr>\n",
       "    <tr>\n",
       "      <th>UAE</th>\n",
       "      <td>42,982</td>\n",
       "      <td>13,828</td>\n",
       "      <td>9,885,431</td>\n",
       "    </tr>\n",
       "    <tr>\n",
       "      <th>S. Korea</th>\n",
       "      <td>12,198</td>\n",
       "      <td>1,145</td>\n",
       "      <td>51,267,604</td>\n",
       "    </tr>\n",
       "  </tbody>\n",
       "</table>\n",
       "</div>"
      ],
      "text/plain": [
       "              TotalCases ActiveCases    Population\n",
       "Country,Other                                     \n",
       "USA            2,208,787   1,186,506  330,928,170 \n",
       "UK               298,136         N/A   67,872,439 \n",
       "Iran             195,051      31,054   83,947,823 \n",
       "UAE               42,982      13,828    9,885,431 \n",
       "S. Korea          12,198       1,145   51,267,604 "
      ]
     },
     "execution_count": 27,
     "metadata": {},
     "output_type": "execute_result"
    }
   ],
   "source": [
    "df2.head()"
   ]
  },
  {
   "cell_type": "code",
   "execution_count": 28,
   "metadata": {},
   "outputs": [],
   "source": [
    "# Rename so that countries in 'df2' = countries in 'map' (if exist in both datasets) and drop the rest\n",
    "df2 = df2.rename(\n",
    "    index={\n",
    "        'USA': 'United States',\n",
    "        'UK': 'United Kingdom',\n",
    "        'Iran': 'Iran (Islamic Republic of)',\n",
    "        'UAE': 'United Arab Emirates',\n",
    "        'S. Korea': 'Korea, Republic of',\n",
    "        'Moldova': 'Republic of Moldova',\t\n",
    "        'Ivory Coast': \"Cote d'Ivoire\",\n",
    "        'DRC': 'Democratic Republic of the Congo',\n",
    "        'North Macedonia': 'The former Yugoslav Republic of Macedonia',\t\n",
    "        'CAR': 'Central African Republic',\n",
    "        'Cabo Verde': 'Cape Verde',\t\t\n",
    "        'Tanzania': 'United Republic of Tanzania',\n",
    "        'Eswatini': 'Swaziland',\n",
    "        'Libya': 'Libyan Arab Jamahiriya',\n",
    "        'Vietnam':'Viet Nam',\t\n",
    "        'Myanmar':'Burma',\t\n",
    "        'Faeroe Islands':'Faroe Islands',\t\n",
    "        'Syria':'Syrian Arab Republic',\t\n",
    "        'Brunei':'Brunei Darussalam',\t\n",
    "        'Macao':'Macau',\t\n",
    "        'St. Vincent Grenadines':'Saint Vincent and the Grenadines',\t\n",
    "        'Laos':\"Lao People's Democratic Republic\",\t\n",
    "        'Falkland Islands':'Falkland Islands (Malvinas)',\t\n",
    "        'Turks and Caicos':'Turks and Caicos Islands',\t\n",
    "        'Vatican City':'Holy See (Vatican City)',\t\t\n",
    "        'St. Barth':'Saint Barthelemy',\n",
    "        'Saint Pierre Miquelon':'Saint Pierre and Miquelon'\n",
    "        })\n",
    "df2 = df2.drop([\n",
    "    'Czechia',\n",
    "    'South Sudan',\n",
    "    'Diamond Princess',\n",
    "    'Channel Islands',\n",
    "    'Réunion',\n",
    "    'Sint Maarten',\n",
    "    'Curaçao',\n",
    "    'MS Zaandam',\n",
    "    'Caribbean Netherlands',\n",
    "    ])"
   ]
  },
  {
   "cell_type": "code",
   "execution_count": 29,
   "metadata": {},
   "outputs": [
    {
     "data": {
      "text/plain": [
       "['Saint Pierre and Miquelon']"
      ]
     },
     "execution_count": 29,
     "metadata": {},
     "output_type": "execute_result"
    }
   ],
   "source": [
    "# Find similar values\n",
    "same_val = [col for col in map.NAME if 'Miquelon' in col]\n",
    "same_val"
   ]
  },
  {
   "cell_type": "code",
   "execution_count": 30,
   "metadata": {},
   "outputs": [
    {
     "data": {
      "text/html": [
       "<div>\n",
       "<style scoped>\n",
       "    .dataframe tbody tr th:only-of-type {\n",
       "        vertical-align: middle;\n",
       "    }\n",
       "\n",
       "    .dataframe tbody tr th {\n",
       "        vertical-align: top;\n",
       "    }\n",
       "\n",
       "    .dataframe thead th {\n",
       "        text-align: right;\n",
       "    }\n",
       "</style>\n",
       "<table border=\"1\" class=\"dataframe\">\n",
       "  <thead>\n",
       "    <tr style=\"text-align: right;\">\n",
       "      <th></th>\n",
       "      <th>TotalCases</th>\n",
       "      <th>ActiveCases</th>\n",
       "      <th>Population</th>\n",
       "    </tr>\n",
       "    <tr>\n",
       "      <th>Country,Other</th>\n",
       "      <th></th>\n",
       "      <th></th>\n",
       "      <th></th>\n",
       "    </tr>\n",
       "  </thead>\n",
       "  <tbody>\n",
       "    <tr>\n",
       "      <th>United States</th>\n",
       "      <td>2,208,787</td>\n",
       "      <td>1,186,506</td>\n",
       "      <td>330,928,170</td>\n",
       "    </tr>\n",
       "    <tr>\n",
       "      <th>United Kingdom</th>\n",
       "      <td>298,136</td>\n",
       "      <td>N/A</td>\n",
       "      <td>67,872,439</td>\n",
       "    </tr>\n",
       "    <tr>\n",
       "      <th>Iran (Islamic Republic of)</th>\n",
       "      <td>195,051</td>\n",
       "      <td>31,054</td>\n",
       "      <td>83,947,823</td>\n",
       "    </tr>\n",
       "    <tr>\n",
       "      <th>United Arab Emirates</th>\n",
       "      <td>42,982</td>\n",
       "      <td>13,828</td>\n",
       "      <td>9,885,431</td>\n",
       "    </tr>\n",
       "    <tr>\n",
       "      <th>Korea, Republic of</th>\n",
       "      <td>12,198</td>\n",
       "      <td>1,145</td>\n",
       "      <td>51,267,604</td>\n",
       "    </tr>\n",
       "  </tbody>\n",
       "</table>\n",
       "</div>"
      ],
      "text/plain": [
       "                           TotalCases ActiveCases    Population\n",
       "Country,Other                                                  \n",
       "United States               2,208,787   1,186,506  330,928,170 \n",
       "United Kingdom                298,136         N/A   67,872,439 \n",
       "Iran (Islamic Republic of)    195,051      31,054   83,947,823 \n",
       "United Arab Emirates           42,982      13,828    9,885,431 \n",
       "Korea, Republic of             12,198       1,145   51,267,604 "
      ]
     },
     "execution_count": 30,
     "metadata": {},
     "output_type": "execute_result"
    }
   ],
   "source": [
    "df2.head()"
   ]
  },
  {
   "cell_type": "markdown",
   "metadata": {},
   "source": [
    "### Merge 'df1' and 'df2'"
   ]
  },
  {
   "cell_type": "code",
   "execution_count": 31,
   "metadata": {},
   "outputs": [],
   "source": [
    "df_merge = pd.concat([df2,df1])"
   ]
  },
  {
   "cell_type": "code",
   "execution_count": 32,
   "metadata": {},
   "outputs": [
    {
     "data": {
      "text/html": [
       "<div>\n",
       "<style scoped>\n",
       "    .dataframe tbody tr th:only-of-type {\n",
       "        vertical-align: middle;\n",
       "    }\n",
       "\n",
       "    .dataframe tbody tr th {\n",
       "        vertical-align: top;\n",
       "    }\n",
       "\n",
       "    .dataframe thead th {\n",
       "        text-align: right;\n",
       "    }\n",
       "</style>\n",
       "<table border=\"1\" class=\"dataframe\">\n",
       "  <thead>\n",
       "    <tr style=\"text-align: right;\">\n",
       "      <th></th>\n",
       "      <th>TotalCases</th>\n",
       "      <th>ActiveCases</th>\n",
       "      <th>Population</th>\n",
       "    </tr>\n",
       "    <tr>\n",
       "      <th>Country,Other</th>\n",
       "      <th></th>\n",
       "      <th></th>\n",
       "      <th></th>\n",
       "    </tr>\n",
       "  </thead>\n",
       "  <tbody>\n",
       "    <tr>\n",
       "      <th>United States</th>\n",
       "      <td>2,208,787</td>\n",
       "      <td>1,186,506</td>\n",
       "      <td>330,928,170</td>\n",
       "    </tr>\n",
       "    <tr>\n",
       "      <th>United Kingdom</th>\n",
       "      <td>298,136</td>\n",
       "      <td>N/A</td>\n",
       "      <td>67,872,439</td>\n",
       "    </tr>\n",
       "    <tr>\n",
       "      <th>Iran (Islamic Republic of)</th>\n",
       "      <td>195,051</td>\n",
       "      <td>31,054</td>\n",
       "      <td>83,947,823</td>\n",
       "    </tr>\n",
       "    <tr>\n",
       "      <th>United Arab Emirates</th>\n",
       "      <td>42,982</td>\n",
       "      <td>13,828</td>\n",
       "      <td>9,885,431</td>\n",
       "    </tr>\n",
       "    <tr>\n",
       "      <th>Korea, Republic of</th>\n",
       "      <td>12,198</td>\n",
       "      <td>1,145</td>\n",
       "      <td>51,267,604</td>\n",
       "    </tr>\n",
       "  </tbody>\n",
       "</table>\n",
       "</div>"
      ],
      "text/plain": [
       "                           TotalCases ActiveCases    Population\n",
       "Country,Other                                                  \n",
       "United States               2,208,787   1,186,506  330,928,170 \n",
       "United Kingdom                298,136         N/A   67,872,439 \n",
       "Iran (Islamic Republic of)    195,051      31,054   83,947,823 \n",
       "United Arab Emirates           42,982      13,828    9,885,431 \n",
       "Korea, Republic of             12,198       1,145   51,267,604 "
      ]
     },
     "execution_count": 32,
     "metadata": {},
     "output_type": "execute_result"
    }
   ],
   "source": [
    "df_merge.head()"
   ]
  },
  {
   "cell_type": "code",
   "execution_count": 33,
   "metadata": {},
   "outputs": [
    {
     "data": {
      "text/plain": [
       "TotalCases     195\n",
       "ActiveCases    161\n",
       "Population     206\n",
       "dtype: int64"
      ]
     },
     "execution_count": 33,
     "metadata": {},
     "output_type": "execute_result"
    }
   ],
   "source": [
    "df_merge.nunique()"
   ]
  },
  {
   "cell_type": "code",
   "execution_count": 34,
   "metadata": {},
   "outputs": [
    {
     "data": {
      "text/plain": [
       "Population     0\n",
       "ActiveCases    0\n",
       "TotalCases     0\n",
       "dtype: int64"
      ]
     },
     "execution_count": 34,
     "metadata": {},
     "output_type": "execute_result"
    }
   ],
   "source": [
    "# check for nulls\n",
    "df_merge.isnull().sum().sort_values(ascending=False)"
   ]
  },
  {
   "cell_type": "code",
   "execution_count": 35,
   "metadata": {},
   "outputs": [
    {
     "data": {
      "text/html": [
       "<div>\n",
       "<style scoped>\n",
       "    .dataframe tbody tr th:only-of-type {\n",
       "        vertical-align: middle;\n",
       "    }\n",
       "\n",
       "    .dataframe tbody tr th {\n",
       "        vertical-align: top;\n",
       "    }\n",
       "\n",
       "    .dataframe thead th {\n",
       "        text-align: right;\n",
       "    }\n",
       "</style>\n",
       "<table border=\"1\" class=\"dataframe\">\n",
       "  <thead>\n",
       "    <tr style=\"text-align: right;\">\n",
       "      <th></th>\n",
       "      <th>NAME</th>\n",
       "      <th>Total_Cases</th>\n",
       "      <th>ActiveCases</th>\n",
       "      <th>Population</th>\n",
       "    </tr>\n",
       "  </thead>\n",
       "  <tbody>\n",
       "    <tr>\n",
       "      <th>0</th>\n",
       "      <td>Afghanistan</td>\n",
       "      <td>26,310</td>\n",
       "      <td>20,311</td>\n",
       "      <td>38,886,984</td>\n",
       "    </tr>\n",
       "    <tr>\n",
       "      <th>1</th>\n",
       "      <td>Albania</td>\n",
       "      <td>1,590</td>\n",
       "      <td>499</td>\n",
       "      <td>2,877,906</td>\n",
       "    </tr>\n",
       "    <tr>\n",
       "      <th>2</th>\n",
       "      <td>Algeria</td>\n",
       "      <td>11,031</td>\n",
       "      <td>2,519</td>\n",
       "      <td>43,815,597</td>\n",
       "    </tr>\n",
       "    <tr>\n",
       "      <th>3</th>\n",
       "      <td>Andorra</td>\n",
       "      <td>854</td>\n",
       "      <td>13</td>\n",
       "      <td>77,261</td>\n",
       "    </tr>\n",
       "    <tr>\n",
       "      <th>4</th>\n",
       "      <td>Angola</td>\n",
       "      <td>142</td>\n",
       "      <td>72</td>\n",
       "      <td>32,813,171</td>\n",
       "    </tr>\n",
       "  </tbody>\n",
       "</table>\n",
       "</div>"
      ],
      "text/plain": [
       "          NAME Total_Cases ActiveCases   Population\n",
       "0  Afghanistan      26,310      20,311  38,886,984 \n",
       "1      Albania       1,590         499   2,877,906 \n",
       "2      Algeria      11,031       2,519  43,815,597 \n",
       "3      Andorra         854          13      77,261 \n",
       "4       Angola         142          72  32,813,171 "
      ]
     },
     "execution_count": 35,
     "metadata": {},
     "output_type": "execute_result"
    }
   ],
   "source": [
    "df_merge = df_merge.sort_values('Country,Other')\n",
    "df_merge = df_merge.reset_index().rename(columns={\n",
    "    'Country,Other': 'NAME',\n",
    "    'TotalCases': 'Total_Cases'\n",
    "    })\n",
    "df_merge.head()"
   ]
  },
  {
   "cell_type": "markdown",
   "metadata": {},
   "source": [
    "### Merge 'df_merge' with 'map.' This will create a DataFrame, not a GeoDataFrame."
   ]
  },
  {
   "cell_type": "code",
   "execution_count": 36,
   "metadata": {},
   "outputs": [
    {
     "data": {
      "text/html": [
       "<div>\n",
       "<style scoped>\n",
       "    .dataframe tbody tr th:only-of-type {\n",
       "        vertical-align: middle;\n",
       "    }\n",
       "\n",
       "    .dataframe tbody tr th {\n",
       "        vertical-align: top;\n",
       "    }\n",
       "\n",
       "    .dataframe thead th {\n",
       "        text-align: right;\n",
       "    }\n",
       "</style>\n",
       "<table border=\"1\" class=\"dataframe\">\n",
       "  <thead>\n",
       "    <tr style=\"text-align: right;\">\n",
       "      <th></th>\n",
       "      <th>NAME</th>\n",
       "      <th>Total_Cases</th>\n",
       "      <th>ActiveCases</th>\n",
       "      <th>Population</th>\n",
       "      <th>geometry</th>\n",
       "    </tr>\n",
       "  </thead>\n",
       "  <tbody>\n",
       "    <tr>\n",
       "      <th>0</th>\n",
       "      <td>Afghanistan</td>\n",
       "      <td>26,310</td>\n",
       "      <td>20,311</td>\n",
       "      <td>38,886,984</td>\n",
       "      <td>POLYGON ((74.91574 37.23733, 74.83221 37.22041...</td>\n",
       "    </tr>\n",
       "    <tr>\n",
       "      <th>1</th>\n",
       "      <td>Albania</td>\n",
       "      <td>1,590</td>\n",
       "      <td>499</td>\n",
       "      <td>2,877,906</td>\n",
       "      <td>POLYGON ((19.43621 41.02107, 19.45055 41.06000...</td>\n",
       "    </tr>\n",
       "    <tr>\n",
       "      <th>2</th>\n",
       "      <td>Algeria</td>\n",
       "      <td>11,031</td>\n",
       "      <td>2,519</td>\n",
       "      <td>43,815,597</td>\n",
       "      <td>POLYGON ((2.96361 36.80222, 2.98139 36.80694, ...</td>\n",
       "    </tr>\n",
       "    <tr>\n",
       "      <th>3</th>\n",
       "      <td>Andorra</td>\n",
       "      <td>854</td>\n",
       "      <td>13</td>\n",
       "      <td>77,261</td>\n",
       "      <td>POLYGON ((1.78172 42.56996, 1.77472 42.57111, ...</td>\n",
       "    </tr>\n",
       "    <tr>\n",
       "      <th>4</th>\n",
       "      <td>Angola</td>\n",
       "      <td>142</td>\n",
       "      <td>72</td>\n",
       "      <td>32,813,171</td>\n",
       "      <td>MULTIPOLYGON (((11.75083 -16.75528, 11.77500 -...</td>\n",
       "    </tr>\n",
       "  </tbody>\n",
       "</table>\n",
       "</div>"
      ],
      "text/plain": [
       "          NAME Total_Cases ActiveCases   Population  \\\n",
       "0  Afghanistan      26,310      20,311  38,886,984    \n",
       "1      Albania       1,590         499   2,877,906    \n",
       "2      Algeria      11,031       2,519  43,815,597    \n",
       "3      Andorra         854          13      77,261    \n",
       "4       Angola         142          72  32,813,171    \n",
       "\n",
       "                                            geometry  \n",
       "0  POLYGON ((74.91574 37.23733, 74.83221 37.22041...  \n",
       "1  POLYGON ((19.43621 41.02107, 19.45055 41.06000...  \n",
       "2  POLYGON ((2.96361 36.80222, 2.98139 36.80694, ...  \n",
       "3  POLYGON ((1.78172 42.56996, 1.77472 42.57111, ...  \n",
       "4  MULTIPOLYGON (((11.75083 -16.75528, 11.77500 -...  "
      ]
     },
     "execution_count": 36,
     "metadata": {},
     "output_type": "execute_result"
    }
   ],
   "source": [
    "df_merge = df_merge.merge(map, on = 'NAME')\n",
    "df_merge.head()"
   ]
  },
  {
   "cell_type": "code",
   "execution_count": 37,
   "metadata": {
    "tags": []
   },
   "outputs": [
    {
     "name": "stdout",
     "output_type": "stream",
     "text": [
      "<class 'pandas.core.frame.DataFrame'>\n",
      "Int64Index: 205 entries, 0 to 204\n",
      "Data columns (total 5 columns):\n",
      "NAME           205 non-null object\n",
      "Total_Cases    205 non-null object\n",
      "ActiveCases    205 non-null object\n",
      "Population     205 non-null object\n",
      "geometry       205 non-null geometry\n",
      "dtypes: geometry(1), object(4)\n",
      "memory usage: 9.6+ KB\n"
     ]
    }
   ],
   "source": [
    "df_merge.info()"
   ]
  },
  {
   "cell_type": "code",
   "execution_count": 38,
   "metadata": {},
   "outputs": [],
   "source": [
    "# remove N/As\n",
    "df_merge = df_merge.replace('N/A', '0')"
   ]
  },
  {
   "cell_type": "code",
   "execution_count": 39,
   "metadata": {
    "tags": []
   },
   "outputs": [
    {
     "name": "stdout",
     "output_type": "stream",
     "text": [
      "<class 'pandas.core.frame.DataFrame'>\n",
      "Int64Index: 205 entries, 0 to 204\n",
      "Data columns (total 5 columns):\n",
      "NAME           205 non-null object\n",
      "Total_Cases    205 non-null int32\n",
      "ActiveCases    205 non-null int32\n",
      "Population     205 non-null int32\n",
      "geometry       205 non-null object\n",
      "dtypes: int32(3), object(2)\n",
      "memory usage: 7.2+ KB\n"
     ]
    }
   ],
   "source": [
    "# Convert numeric values (which is now in str) to integer.\n",
    "df_merge[['Total_Cases', 'ActiveCases', 'Population']] = df_merge[\n",
    "    ['Total_Cases', 'ActiveCases', 'Population']].replace(\n",
    "    ',', '', regex=True).astype(int)\n",
    "df_merge.info()"
   ]
  },
  {
   "cell_type": "markdown",
   "metadata": {},
   "source": [
    "### Create 'gdf,' a GeoDataFrame of 'df_merge'"
   ]
  },
  {
   "cell_type": "code",
   "execution_count": 40,
   "metadata": {
    "tags": []
   },
   "outputs": [
    {
     "name": "stdout",
     "output_type": "stream",
     "text": [
      "<class 'geopandas.geodataframe.GeoDataFrame'>\n",
      "Int64Index: 205 entries, 0 to 204\n",
      "Data columns (total 5 columns):\n",
      "NAME           205 non-null object\n",
      "Total_Cases    205 non-null int32\n",
      "ActiveCases    205 non-null int32\n",
      "Population     205 non-null int32\n",
      "geometry       205 non-null geometry\n",
      "dtypes: geometry(1), int32(3), object(1)\n",
      "memory usage: 7.2+ KB\n"
     ]
    }
   ],
   "source": [
    "gdf = gpd.GeoDataFrame(df_merge)\n",
    "gdf.info()"
   ]
  },
  {
   "cell_type": "markdown",
   "metadata": {},
   "source": [
    "<a id='maptime'></a>\n",
    "## 4. Mapping Time!\n",
    "\n",
    "\n",
    "<ul>\n",
    "<a href=\"#top\">back to top</a>\n",
    "</ul>"
   ]
  },
  {
   "cell_type": "code",
   "execution_count": 41,
   "metadata": {},
   "outputs": [
    {
     "data": {
      "image/png": "[encoded data removed]",
      "text/plain": [
       "<Figure size 1080x576 with 2 Axes>"
      ]
     },
     "metadata": {
      "needs_background": "light"
     },
     "output_type": "display_data"
    }
   ],
   "source": [
    "variable = gdf['Total_Cases']/(gdf['Population']/1000000)\n",
    "fig, ax = plt.subplots(1, figsize=(15, 8))\n",
    "vmin, vmax = variable.min(), variable.max()\n",
    "cmap = 'Wistia'\n",
    "\n",
    "# Create colorbar as a legend\n",
    "sm = plt.cm.ScalarMappable(\n",
    "    cmap = cmap, \n",
    "    norm = plt.Normalize(vmin=vmin, vmax=vmax))\n",
    "# empty array for the data range\n",
    "sm._A = []\n",
    "# add the colorbar to the figure\n",
    "cbar = fig.colorbar(\n",
    "    sm,\n",
    "    orientation = 'horizontal')\n",
    "\n",
    "# add a title\n",
    "ax.set_title(\n",
    "    'Covid-19 Cases per 10M Population', \n",
    "    fontdict = {\n",
    "        'fontsize': 25, \n",
    "        'fontweight': 'medium', \n",
    "        'fontfamily': 'serif',\n",
    "        'fontstyle': 'italic',\n",
    "        'verticalalignment': 'baseline', \n",
    "        'horizontalalignment': 'center'\n",
    "    })\n",
    "# create an annotation for the data source\n",
    "ax.annotate(\n",
    "    'Source: worldometers.info, 2020', \n",
    "    xy = (0.1, .08),\n",
    "    xycoords = 'figure fraction', \n",
    "    horizontalalignment = 'left', \n",
    "    verticalalignment = 'top', \n",
    "    fontsize = 12, \n",
    "    color='#555555')\n",
    "\n",
    "gdf.plot(\n",
    "    column = variable,\n",
    "    scheme = 'natural_breaks', \n",
    "    cmap = cmap,\n",
    "    ax = ax\n",
    "    )\n",
    "ax.axis('off');"
   ]
  },
  {
   "cell_type": "code",
   "execution_count": null,
   "metadata": {},
   "outputs": [],
   "source": []
  }
 ],
 "metadata": {
  "kernelspec": {
   "display_name": "Python 3.7.6 64-bit ('jlml': conda)",
   "language": "python",
   "name": "python37664bitjlmlconda823288ade10744eab27a13100ebb26e4"
  },
  "language_info": {
   "codemirror_mode": {
    "name": "ipython",
    "version": 3
   },
   "file_extension": ".py",
   "mimetype": "text/x-python",
   "name": "python",
   "nbconvert_exporter": "python",
   "pygments_lexer": "ipython3",
   "version": "3.7.6"
  }
 },
 "nbformat": 4,
 "nbformat_minor": 2
}
