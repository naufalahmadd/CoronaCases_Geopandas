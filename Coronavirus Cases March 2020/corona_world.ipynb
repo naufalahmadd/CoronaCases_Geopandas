{
 "cells": [
  {
   "cell_type": "code",
   "execution_count": 1,
   "metadata": {},
   "outputs": [],
   "source": [
    "import requests\n",
    "import lxml.html as lh\n",
    "import pandas as pd\n",
    "import geopandas as gpd\n",
    "import numpy as np\n",
    "import matplotlib.pyplot as plt\n",
    "\n",
    "%matplotlib inline"
   ]
  },
  {
   "cell_type": "code",
   "execution_count": 2,
   "metadata": {},
   "outputs": [],
   "source": [
    "# refer url\n",
    "url = 'https://www.worldometers.info/coronavirus/'\n",
    "\n",
    "# create handle\n",
    "page = requests.get(url)\n",
    "\n",
    "# store the contents\n",
    "doc = lh.fromstring(page.content)"
   ]
  },
  {
   "cell_type": "code",
   "execution_count": 3,
   "metadata": {},
   "outputs": [],
   "source": [
    "tr_elements = doc.xpath('//tr')"
   ]
  },
  {
   "cell_type": "code",
   "execution_count": 4,
   "metadata": {},
   "outputs": [
    {
     "output_type": "execute_result",
     "data": {
      "text/plain": "[19, 19, 19, 19, 19, 19, 19, 19, 19, 19, 19, 19]"
     },
     "metadata": {},
     "execution_count": 4
    }
   ],
   "source": [
    "# check the length of first 12 rows\n",
    "[len(T) for T in tr_elements[:12]]"
   ]
  },
  {
   "cell_type": "code",
   "execution_count": 5,
   "metadata": {},
   "outputs": [
    {
     "output_type": "execute_result",
     "data": {
      "text/plain": "19"
     },
     "metadata": {},
     "execution_count": 5
    }
   ],
   "source": [
    "len(tr_elements[1])"
   ]
  },
  {
   "cell_type": "code",
   "execution_count": 6,
   "metadata": {},
   "outputs": [],
   "source": [
    "# Parse table header\n",
    "tr_elements = doc.xpath('//tr')\n",
    "\n",
    "col=[]\n",
    "i=0"
   ]
  },
  {
   "cell_type": "code",
   "execution_count": 7,
   "metadata": {},
   "outputs": [
    {
     "output_type": "stream",
     "name": "stdout",
     "text": "# 1\nCountry,Other 2\nTotalCases 3\nNewCases 4\nTotalDeaths 5\nNewDeaths 6\nTotalRecovered 7\nNewRecovered 8\nActiveCases 9\nSerious,Critical 10\nTot Cases/1M pop 11\nDeaths/1M pop 12\nTotalTests 13\nTests/\n1M pop\n 14\nPopulation 15\nContinent 16\n1 Caseevery X ppl 17\n1 Deathevery X ppl 18\n1 Testevery X ppl 19\n"
    }
   ],
   "source": [
    "for t in tr_elements[0]:\n",
    "    i+=1\n",
    "    name=t.text_content()\n",
    "    print('%s %d' % (name, i))\n",
    "    col.append((name,[]))"
   ]
  },
  {
   "cell_type": "code",
   "execution_count": 8,
   "metadata": {},
   "outputs": [],
   "source": [
    "#Since out first row is the header, data is stored on the second row onwards\n",
    "for j in range(1,len(tr_elements)):\n",
    "    #T is our j'th row\n",
    "    T=tr_elements[j]\n",
    "    \n",
    "    #If row is not of size 10, the //tr data is not from our table \n",
    "    if len(T)!=len(tr_elements[1]):\n",
    "        break\n",
    "    \n",
    "    #i is the index of our column\n",
    "    i=0\n",
    "    \n",
    "    #Iterate through each element of the row\n",
    "    for t in T.iterchildren():\n",
    "        data=t.text_content() \n",
    "        #Check if row is empty\n",
    "        if i>0:\n",
    "        #Convert any numerical value to integers\n",
    "            try:\n",
    "                data=int(data)\n",
    "            except:\n",
    "                pass\n",
    "        #Append the data to the empty list of the i'th column\n",
    "        col[i][1].append(data)\n",
    "        #Increment i for the next column\n",
    "        i+=1"
   ]
  },
  {
   "cell_type": "code",
   "execution_count": 9,
   "metadata": {},
   "outputs": [
    {
     "output_type": "execute_result",
     "data": {
      "text/plain": "[695,\n 695,\n 695,\n 695,\n 695,\n 695,\n 695,\n 695,\n 695,\n 695,\n 695,\n 695,\n 695,\n 695,\n 695,\n 695,\n 695,\n 695,\n 695]"
     },
     "metadata": {},
     "execution_count": 9
    }
   ],
   "source": [
    "[len(C) for (title,C) in col]"
   ]
  },
  {
   "cell_type": "code",
   "execution_count": 10,
   "metadata": {},
   "outputs": [],
   "source": [
    "Dict = {title:column for (title,column) in col}\n",
    "df = pd.DataFrame(Dict)"
   ]
  },
  {
   "cell_type": "code",
   "execution_count": 11,
   "metadata": {},
   "outputs": [],
   "source": [
    "df = df[['Country,Other', 'TotalCases']]"
   ]
  },
  {
   "cell_type": "code",
   "execution_count": 12,
   "metadata": {},
   "outputs": [
    {
     "output_type": "execute_result",
     "data": {
      "text/plain": "       Country,Other TotalCases\n0  \\nNorth America\\n  2,512,457\n1  \\nSouth America\\n  1,463,160\n2         \\nEurope\\n  2,229,528\n3           \\nAsia\\n  1,667,018\n4         \\nAfrica\\n    254,339",
      "text/html": "<div>\n<style scoped>\n    .dataframe tbody tr th:only-of-type {\n        vertical-align: middle;\n    }\n\n    .dataframe tbody tr th {\n        vertical-align: top;\n    }\n\n    .dataframe thead th {\n        text-align: right;\n    }\n</style>\n<table border=\"1\" class=\"dataframe\">\n  <thead>\n    <tr style=\"text-align: right;\">\n      <th></th>\n      <th>Country,Other</th>\n      <th>TotalCases</th>\n    </tr>\n  </thead>\n  <tbody>\n    <tr>\n      <th>0</th>\n      <td>\\nNorth America\\n</td>\n      <td>2,512,457</td>\n    </tr>\n    <tr>\n      <th>1</th>\n      <td>\\nSouth America\\n</td>\n      <td>1,463,160</td>\n    </tr>\n    <tr>\n      <th>2</th>\n      <td>\\nEurope\\n</td>\n      <td>2,229,528</td>\n    </tr>\n    <tr>\n      <th>3</th>\n      <td>\\nAsia\\n</td>\n      <td>1,667,018</td>\n    </tr>\n    <tr>\n      <th>4</th>\n      <td>\\nAfrica\\n</td>\n      <td>254,339</td>\n    </tr>\n  </tbody>\n</table>\n</div>"
     },
     "metadata": {},
     "execution_count": 12
    }
   ],
   "source": [
    "df.head()"
   ]
  },
  {
   "cell_type": "code",
   "execution_count": 13,
   "metadata": {},
   "outputs": [],
   "source": [
    "map = gpd.read_file('World_Map.shp')"
   ]
  },
  {
   "cell_type": "code",
   "execution_count": 14,
   "metadata": {},
   "outputs": [
    {
     "output_type": "execute_result",
     "data": {
      "text/plain": "                  NAME                                           geometry\n0  Antigua and Barbuda  MULTIPOLYGON (((-61.68667 17.02444, -61.73806 ...\n1              Algeria  POLYGON ((2.96361 36.80222, 2.98139 36.80694, ...\n2           Azerbaijan  MULTIPOLYGON (((45.08332 39.76804, 45.26639 39...\n3              Albania  POLYGON ((19.43621 41.02107, 19.45055 41.06000...\n4              Armenia  MULTIPOLYGON (((45.57305 40.63249, 45.52888 40...",
      "text/html": "<div>\n<style scoped>\n    .dataframe tbody tr th:only-of-type {\n        vertical-align: middle;\n    }\n\n    .dataframe tbody tr th {\n        vertical-align: top;\n    }\n\n    .dataframe thead th {\n        text-align: right;\n    }\n</style>\n<table border=\"1\" class=\"dataframe\">\n  <thead>\n    <tr style=\"text-align: right;\">\n      <th></th>\n      <th>NAME</th>\n      <th>geometry</th>\n    </tr>\n  </thead>\n  <tbody>\n    <tr>\n      <th>0</th>\n      <td>Antigua and Barbuda</td>\n      <td>MULTIPOLYGON (((-61.68667 17.02444, -61.73806 ...</td>\n    </tr>\n    <tr>\n      <th>1</th>\n      <td>Algeria</td>\n      <td>POLYGON ((2.96361 36.80222, 2.98139 36.80694, ...</td>\n    </tr>\n    <tr>\n      <th>2</th>\n      <td>Azerbaijan</td>\n      <td>MULTIPOLYGON (((45.08332 39.76804, 45.26639 39...</td>\n    </tr>\n    <tr>\n      <th>3</th>\n      <td>Albania</td>\n      <td>POLYGON ((19.43621 41.02107, 19.45055 41.06000...</td>\n    </tr>\n    <tr>\n      <th>4</th>\n      <td>Armenia</td>\n      <td>MULTIPOLYGON (((45.57305 40.63249, 45.52888 40...</td>\n    </tr>\n  </tbody>\n</table>\n</div>"
     },
     "metadata": {},
     "execution_count": 14
    }
   ],
   "source": [
    "map.head()"
   ]
  },
  {
   "cell_type": "code",
   "execution_count": 15,
   "metadata": {},
   "outputs": [],
   "source": [
    "df_notin_map = []\n",
    "for i in df['Country,Other'].tolist():\n",
    "    map_list = map['NAME'].tolist()\n",
    "    if i in  map_list:\n",
    "        pass\n",
    "    else:\n",
    "        df_notin_map.append(i)"
   ]
  },
  {
   "cell_type": "code",
   "execution_count": 16,
   "metadata": {},
   "outputs": [],
   "source": [
    "df1 = df.set_index('Country,Other')"
   ]
  },
  {
   "cell_type": "code",
   "execution_count": 17,
   "metadata": {},
   "outputs": [],
   "source": [
    "df1 = df1.drop(df_notin_map)"
   ]
  },
  {
   "cell_type": "code",
   "execution_count": 18,
   "metadata": {},
   "outputs": [],
   "source": [
    "df1 = df1.sort_values(by='Country,Other')"
   ]
  },
  {
   "cell_type": "code",
   "execution_count": 19,
   "metadata": {},
   "outputs": [
    {
     "output_type": "execute_result",
     "data": {
      "text/plain": "              TotalCases\nCountry,Other           \nAfghanistan       25,623\nAfghanistan       24,766\nAfghanistan       25,527\nAlbania            1,590\nAlbania            1,590",
      "text/html": "<div>\n<style scoped>\n    .dataframe tbody tr th:only-of-type {\n        vertical-align: middle;\n    }\n\n    .dataframe tbody tr th {\n        vertical-align: top;\n    }\n\n    .dataframe thead th {\n        text-align: right;\n    }\n</style>\n<table border=\"1\" class=\"dataframe\">\n  <thead>\n    <tr style=\"text-align: right;\">\n      <th></th>\n      <th>TotalCases</th>\n    </tr>\n    <tr>\n      <th>Country,Other</th>\n      <th></th>\n    </tr>\n  </thead>\n  <tbody>\n    <tr>\n      <th>Afghanistan</th>\n      <td>25,623</td>\n    </tr>\n    <tr>\n      <th>Afghanistan</th>\n      <td>24,766</td>\n    </tr>\n    <tr>\n      <th>Afghanistan</th>\n      <td>25,527</td>\n    </tr>\n    <tr>\n      <th>Albania</th>\n      <td>1,590</td>\n    </tr>\n    <tr>\n      <th>Albania</th>\n      <td>1,590</td>\n    </tr>\n  </tbody>\n</table>\n</div>"
     },
     "metadata": {},
     "execution_count": 19
    }
   ],
   "source": [
    "df1.head()"
   ]
  },
  {
   "cell_type": "code",
   "execution_count": 20,
   "metadata": {},
   "outputs": [
    {
     "output_type": "execute_result",
     "data": {
      "text/plain": "Country,Other\nAfghanistan    False\nAfghanistan    False\nAfghanistan    False\nAlbania        False\nAlbania         True\n               ...  \nZambia          True\nZambia         False\nZimbabwe       False\nZimbabwe       False\nZimbabwe        True\nLength: 537, dtype: bool"
     },
     "metadata": {},
     "execution_count": 20
    }
   ],
   "source": [
    "df1.duplicated()"
   ]
  },
  {
   "cell_type": "code",
   "execution_count": 21,
   "metadata": {},
   "outputs": [
    {
     "output_type": "execute_result",
     "data": {
      "text/plain": "              TotalCases\nCountry,Other           \nAfghanistan       25,623\nAfghanistan       24,766\nAfghanistan       25,527\nAlbania            1,590\nAlbania            1,521\n...                  ...\nYemen                728\nZambia             1,382\nZambia             1,358\nZimbabwe             383\nZimbabwe             387\n\n[334 rows x 1 columns]",
      "text/html": "<div>\n<style scoped>\n    .dataframe tbody tr th:only-of-type {\n        vertical-align: middle;\n    }\n\n    .dataframe tbody tr th {\n        vertical-align: top;\n    }\n\n    .dataframe thead th {\n        text-align: right;\n    }\n</style>\n<table border=\"1\" class=\"dataframe\">\n  <thead>\n    <tr style=\"text-align: right;\">\n      <th></th>\n      <th>TotalCases</th>\n    </tr>\n    <tr>\n      <th>Country,Other</th>\n      <th></th>\n    </tr>\n  </thead>\n  <tbody>\n    <tr>\n      <th>Afghanistan</th>\n      <td>25,623</td>\n    </tr>\n    <tr>\n      <th>Afghanistan</th>\n      <td>24,766</td>\n    </tr>\n    <tr>\n      <th>Afghanistan</th>\n      <td>25,527</td>\n    </tr>\n    <tr>\n      <th>Albania</th>\n      <td>1,590</td>\n    </tr>\n    <tr>\n      <th>Albania</th>\n      <td>1,521</td>\n    </tr>\n    <tr>\n      <th>...</th>\n      <td>...</td>\n    </tr>\n    <tr>\n      <th>Yemen</th>\n      <td>728</td>\n    </tr>\n    <tr>\n      <th>Zambia</th>\n      <td>1,382</td>\n    </tr>\n    <tr>\n      <th>Zambia</th>\n      <td>1,358</td>\n    </tr>\n    <tr>\n      <th>Zimbabwe</th>\n      <td>383</td>\n    </tr>\n    <tr>\n      <th>Zimbabwe</th>\n      <td>387</td>\n    </tr>\n  </tbody>\n</table>\n<p>334 rows × 1 columns</p>\n</div>"
     },
     "metadata": {},
     "execution_count": 21
    }
   ],
   "source": [
    "df1.drop_duplicates(keep='last')"
   ]
  },
  {
   "cell_type": "code",
   "execution_count": 22,
   "metadata": {},
   "outputs": [],
   "source": [
    "df1 = df1[~df1.index.duplicated(keep='last')]"
   ]
  },
  {
   "cell_type": "code",
   "execution_count": 23,
   "metadata": {},
   "outputs": [
    {
     "output_type": "execute_result",
     "data": {
      "text/plain": "              TotalCases\nCountry,Other           \nAfghanistan       25,527\nAlbania            1,521\nAlgeria           10,919\nAndorra              853\nAngola               140",
      "text/html": "<div>\n<style scoped>\n    .dataframe tbody tr th:only-of-type {\n        vertical-align: middle;\n    }\n\n    .dataframe tbody tr th {\n        vertical-align: top;\n    }\n\n    .dataframe thead th {\n        text-align: right;\n    }\n</style>\n<table border=\"1\" class=\"dataframe\">\n  <thead>\n    <tr style=\"text-align: right;\">\n      <th></th>\n      <th>TotalCases</th>\n    </tr>\n    <tr>\n      <th>Country,Other</th>\n      <th></th>\n    </tr>\n  </thead>\n  <tbody>\n    <tr>\n      <th>Afghanistan</th>\n      <td>25,527</td>\n    </tr>\n    <tr>\n      <th>Albania</th>\n      <td>1,521</td>\n    </tr>\n    <tr>\n      <th>Algeria</th>\n      <td>10,919</td>\n    </tr>\n    <tr>\n      <th>Andorra</th>\n      <td>853</td>\n    </tr>\n    <tr>\n      <th>Angola</th>\n      <td>140</td>\n    </tr>\n  </tbody>\n</table>\n</div>"
     },
     "metadata": {},
     "execution_count": 23
    }
   ],
   "source": [
    "df1.head()"
   ]
  },
  {
   "cell_type": "markdown",
   "metadata": {},
   "source": [
    "# Create Dataframe with these countries as index\n",
    "\n",
    " 'USA',\n",
    " 'UK',\n",
    " 'Iran',\n",
    " 'UAE',\n",
    " 'S. Korea',\n",
    " 'Moldova',\n",
    " 'Czechia',\n",
    " 'Ivory Coast',\n",
    " 'DRC',\n",
    " 'North Macedonia',\n",
    " 'CAR',\n",
    " 'South Sudan',\n",
    " 'Cabo Verde',\n",
    " 'Diamond Princess',\n",
    " 'Channel Islands',\n",
    " 'Tanzania',\n",
    " 'Eswatini',\n",
    " 'Réunion',\n",
    " 'Libya',\n",
    " 'Vietnam',\n",
    " 'Myanmar',\n",
    " 'Faeroe Islands',\n",
    " 'Syria',\n",
    " 'Brunei ',\n",
    " 'Sint Maarten',\n",
    " 'Macao',\n",
    " 'St. Vincent Grenadines',\n",
    " 'Curaçao',\n",
    " 'Laos',\n",
    " 'Falkland Islands',\n",
    " 'Turks and Caicos',\n",
    " 'Vatican City',\n",
    " 'MS Zaandam',\n",
    " 'Caribbean Netherlands',\n",
    " 'St. Barth',\n",
    " 'Saint Pierre Miquelon',\n"
   ]
  },
  {
   "cell_type": "code",
   "execution_count": 24,
   "metadata": {},
   "outputs": [
    {
     "output_type": "execute_result",
     "data": {
      "text/plain": "                  NAME                                           geometry\n0  Antigua and Barbuda  MULTIPOLYGON (((-61.68667 17.02444, -61.73806 ...\n1              Algeria  POLYGON ((2.96361 36.80222, 2.98139 36.80694, ...\n2           Azerbaijan  MULTIPOLYGON (((45.08332 39.76804, 45.26639 39...",
      "text/html": "<div>\n<style scoped>\n    .dataframe tbody tr th:only-of-type {\n        vertical-align: middle;\n    }\n\n    .dataframe tbody tr th {\n        vertical-align: top;\n    }\n\n    .dataframe thead th {\n        text-align: right;\n    }\n</style>\n<table border=\"1\" class=\"dataframe\">\n  <thead>\n    <tr style=\"text-align: right;\">\n      <th></th>\n      <th>NAME</th>\n      <th>geometry</th>\n    </tr>\n  </thead>\n  <tbody>\n    <tr>\n      <th>0</th>\n      <td>Antigua and Barbuda</td>\n      <td>MULTIPOLYGON (((-61.68667 17.02444, -61.73806 ...</td>\n    </tr>\n    <tr>\n      <th>1</th>\n      <td>Algeria</td>\n      <td>POLYGON ((2.96361 36.80222, 2.98139 36.80694, ...</td>\n    </tr>\n    <tr>\n      <th>2</th>\n      <td>Azerbaijan</td>\n      <td>MULTIPOLYGON (((45.08332 39.76804, 45.26639 39...</td>\n    </tr>\n  </tbody>\n</table>\n</div>"
     },
     "metadata": {},
     "execution_count": 24
    }
   ],
   "source": [
    "map.sort_values('NAME')\n",
    "map.head(3)"
   ]
  },
  {
   "cell_type": "markdown",
   "metadata": {},
   "source": [
    "## These problems still exist\n",
    "1. Banyak yang belum sinkron di `Country,Other`\n",
    "2. Ada dua duplicates dalam setiap cacat di `Country,Other`"
   ]
  },
  {
   "cell_type": "code",
   "execution_count": 25,
   "metadata": {},
   "outputs": [],
   "source": [
    "df2 = df.set_index('Country,Other')"
   ]
  },
  {
   "cell_type": "code",
   "execution_count": 26,
   "metadata": {},
   "outputs": [
    {
     "output_type": "execute_result",
     "data": {
      "text/plain": "              TotalCases\nCountry,Other           \nUSA            2,182,951\nUSA            2,182,950\nUSA            2,162,228\nUK               296,857\nUK               296,857",
      "text/html": "<div>\n<style scoped>\n    .dataframe tbody tr th:only-of-type {\n        vertical-align: middle;\n    }\n\n    .dataframe tbody tr th {\n        vertical-align: top;\n    }\n\n    .dataframe thead th {\n        text-align: right;\n    }\n</style>\n<table border=\"1\" class=\"dataframe\">\n  <thead>\n    <tr style=\"text-align: right;\">\n      <th></th>\n      <th>TotalCases</th>\n    </tr>\n    <tr>\n      <th>Country,Other</th>\n      <th></th>\n    </tr>\n  </thead>\n  <tbody>\n    <tr>\n      <th>USA</th>\n      <td>2,182,951</td>\n    </tr>\n    <tr>\n      <th>USA</th>\n      <td>2,182,950</td>\n    </tr>\n    <tr>\n      <th>USA</th>\n      <td>2,162,228</td>\n    </tr>\n    <tr>\n      <th>UK</th>\n      <td>296,857</td>\n    </tr>\n    <tr>\n      <th>UK</th>\n      <td>296,857</td>\n    </tr>\n  </tbody>\n</table>\n</div>"
     },
     "metadata": {},
     "execution_count": 26
    }
   ],
   "source": [
    "df2 = df2.loc[['USA', 'UK', 'Iran', 'UAE', 'S. Korea', 'Moldova', 'Czechia', 'Ivory Coast', 'DRC', 'North Macedonia', 'CAR', 'South Sudan', 'Cabo Verde', 'Diamond Princess', 'Channel Islands', 'Tanzania', 'Eswatini', 'Réunion', 'Libya', 'Vietnam', 'Myanmar', 'Faeroe Islands', 'Syria', 'Brunei ', 'Sint Maarten', 'Macao', 'St. Vincent Grenadines', 'Curaçao', 'Laos', 'Falkland Islands', 'Turks and Caicos', 'Vatican City', 'MS Zaandam', 'Caribbean Netherlands', 'St. Barth', 'Saint Pierre Miquelon']]\n",
    "df2.head()"
   ]
  },
  {
   "cell_type": "code",
   "execution_count": 27,
   "metadata": {},
   "outputs": [
    {
     "output_type": "execute_result",
     "data": {
      "text/plain": "              TotalCases\nCountry,Other           \nBrunei               141\nBrunei               141\nBrunei               141\nCAR                2,289\nCAR                2,222\nCAR                2,057\nCabo Verde           760\nCabo Verde           760\nCabo Verde           750",
      "text/html": "<div>\n<style scoped>\n    .dataframe tbody tr th:only-of-type {\n        vertical-align: middle;\n    }\n\n    .dataframe tbody tr th {\n        vertical-align: top;\n    }\n\n    .dataframe thead th {\n        text-align: right;\n    }\n</style>\n<table border=\"1\" class=\"dataframe\">\n  <thead>\n    <tr style=\"text-align: right;\">\n      <th></th>\n      <th>TotalCases</th>\n    </tr>\n    <tr>\n      <th>Country,Other</th>\n      <th></th>\n    </tr>\n  </thead>\n  <tbody>\n    <tr>\n      <th>Brunei</th>\n      <td>141</td>\n    </tr>\n    <tr>\n      <th>Brunei</th>\n      <td>141</td>\n    </tr>\n    <tr>\n      <th>Brunei</th>\n      <td>141</td>\n    </tr>\n    <tr>\n      <th>CAR</th>\n      <td>2,289</td>\n    </tr>\n    <tr>\n      <th>CAR</th>\n      <td>2,222</td>\n    </tr>\n    <tr>\n      <th>CAR</th>\n      <td>2,057</td>\n    </tr>\n    <tr>\n      <th>Cabo Verde</th>\n      <td>760</td>\n    </tr>\n    <tr>\n      <th>Cabo Verde</th>\n      <td>760</td>\n    </tr>\n    <tr>\n      <th>Cabo Verde</th>\n      <td>750</td>\n    </tr>\n  </tbody>\n</table>\n</div>"
     },
     "metadata": {},
     "execution_count": 27
    }
   ],
   "source": [
    "df2.sort_values('Country,Other').head(9)"
   ]
  },
  {
   "cell_type": "code",
   "execution_count": 28,
   "metadata": {},
   "outputs": [],
   "source": [
    "df2 = df2[~df2.index.duplicated(keep='first')]"
   ]
  },
  {
   "cell_type": "code",
   "execution_count": 29,
   "metadata": {},
   "outputs": [
    {
     "output_type": "execute_result",
     "data": {
      "text/plain": "              TotalCases\nCountry,Other           \nUSA            2,182,951\nUK               296,857\nIran             189,876\nUAE               42,636\nS. Korea          12,155",
      "text/html": "<div>\n<style scoped>\n    .dataframe tbody tr th:only-of-type {\n        vertical-align: middle;\n    }\n\n    .dataframe tbody tr th {\n        vertical-align: top;\n    }\n\n    .dataframe thead th {\n        text-align: right;\n    }\n</style>\n<table border=\"1\" class=\"dataframe\">\n  <thead>\n    <tr style=\"text-align: right;\">\n      <th></th>\n      <th>TotalCases</th>\n    </tr>\n    <tr>\n      <th>Country,Other</th>\n      <th></th>\n    </tr>\n  </thead>\n  <tbody>\n    <tr>\n      <th>USA</th>\n      <td>2,182,951</td>\n    </tr>\n    <tr>\n      <th>UK</th>\n      <td>296,857</td>\n    </tr>\n    <tr>\n      <th>Iran</th>\n      <td>189,876</td>\n    </tr>\n    <tr>\n      <th>UAE</th>\n      <td>42,636</td>\n    </tr>\n    <tr>\n      <th>S. Korea</th>\n      <td>12,155</td>\n    </tr>\n  </tbody>\n</table>\n</div>"
     },
     "metadata": {},
     "execution_count": 29
    }
   ],
   "source": [
    "df2.head()"
   ]
  },
  {
   "cell_type": "code",
   "execution_count": 30,
   "metadata": {},
   "outputs": [],
   "source": [
    "df2 = df2.rename(\n",
    "    index={\n",
    "        'USA': 'United States',\n",
    "        'UK': 'United Kingdom',\n",
    "        'Iran': 'Iran (Islamic Republic of)',\n",
    "        'UAE': 'United Arab Emirates',\n",
    "        'S. Korea': 'Korea, Republic of',\n",
    "        'Moldova': 'Republic of Moldova',\t\n",
    "        'Ivory Coast': \"Cote d'Ivoire\",\n",
    "        'DRC': 'Democratic Republic of the Congo',\n",
    "        'North Macedonia': 'The former Yugoslav Republic of Macedonia',\t\n",
    "        'CAR': 'Central African Republic',\n",
    "        'Cabo Verde': 'Cape Verde',\t\t\n",
    "        'Tanzania': 'United Republic of Tanzania',\n",
    "        'Eswatini': 'Swaziland',\n",
    "        'Libya': 'Libyan Arab Jamahiriya',\n",
    "        'Vietnam':'Viet Nam',\t\n",
    "        'Myanmar':'Burma',\t\n",
    "        'Faeroe Islands':'Faroe Islands',\t\n",
    "        'Syria':'Syrian Arab Republic',\t\n",
    "        'Brunei':'Brunei Darussalam',\t\n",
    "        'Macao':'Macau',\t\n",
    "        'St. Vincent Grenadines':'Saint Vincent and the Grenadines',\t\n",
    "        'Laos':\"Lao People's Democratic Republic\",\t\n",
    "        'Falkland Islands':'Falkland Islands (Malvinas)',\t\n",
    "        'Turks and Caicos':'Turks and Caicos Islands',\t\n",
    "        'Vatican City':'Holy See (Vatican City)',\t\t\n",
    "        'St. Barth':'Saint Barthelemy',\n",
    "        'Saint Pierre Miquelon':'Saint Pierre and Miquelon'\n",
    "        })"
   ]
  },
  {
   "cell_type": "code",
   "execution_count": 31,
   "metadata": {},
   "outputs": [
    {
     "output_type": "execute_result",
     "data": {
      "text/plain": "['Saint Pierre and Miquelon']"
     },
     "metadata": {},
     "execution_count": 31
    }
   ],
   "source": [
    "# Find similar values\n",
    "same_val = [col for col in map.NAME if 'Miquelon' in col]\n",
    "same_val"
   ]
  },
  {
   "cell_type": "code",
   "execution_count": 32,
   "metadata": {},
   "outputs": [
    {
     "output_type": "execute_result",
     "data": {
      "text/plain": "                           TotalCases\nCountry,Other                        \nUnited States               2,182,951\nUnited Kingdom                296,857\nIran (Islamic Republic of)    189,876\nUnited Arab Emirates           42,636\nKorea, Republic of             12,155",
      "text/html": "<div>\n<style scoped>\n    .dataframe tbody tr th:only-of-type {\n        vertical-align: middle;\n    }\n\n    .dataframe tbody tr th {\n        vertical-align: top;\n    }\n\n    .dataframe thead th {\n        text-align: right;\n    }\n</style>\n<table border=\"1\" class=\"dataframe\">\n  <thead>\n    <tr style=\"text-align: right;\">\n      <th></th>\n      <th>TotalCases</th>\n    </tr>\n    <tr>\n      <th>Country,Other</th>\n      <th></th>\n    </tr>\n  </thead>\n  <tbody>\n    <tr>\n      <th>United States</th>\n      <td>2,182,951</td>\n    </tr>\n    <tr>\n      <th>United Kingdom</th>\n      <td>296,857</td>\n    </tr>\n    <tr>\n      <th>Iran (Islamic Republic of)</th>\n      <td>189,876</td>\n    </tr>\n    <tr>\n      <th>United Arab Emirates</th>\n      <td>42,636</td>\n    </tr>\n    <tr>\n      <th>Korea, Republic of</th>\n      <td>12,155</td>\n    </tr>\n  </tbody>\n</table>\n</div>"
     },
     "metadata": {},
     "execution_count": 32
    }
   ],
   "source": [
    "df2.head()"
   ]
  },
  {
   "cell_type": "code",
   "execution_count": 33,
   "metadata": {},
   "outputs": [],
   "source": [
    "df_merge = pd.concat([df2,df1])"
   ]
  },
  {
   "cell_type": "code",
   "execution_count": 34,
   "metadata": {},
   "outputs": [
    {
     "output_type": "execute_result",
     "data": {
      "text/plain": "(215, 1)"
     },
     "metadata": {},
     "execution_count": 34
    }
   ],
   "source": [
    "df_merge.shape"
   ]
  },
  {
   "cell_type": "code",
   "execution_count": 35,
   "metadata": {},
   "outputs": [
    {
     "output_type": "execute_result",
     "data": {
      "text/plain": "TotalCases    203\ndtype: int64"
     },
     "metadata": {},
     "execution_count": 35
    }
   ],
   "source": [
    "df_merge.nunique()"
   ]
  },
  {
   "cell_type": "code",
   "execution_count": 39,
   "metadata": {},
   "outputs": [
    {
     "output_type": "execute_result",
     "data": {
      "text/plain": "                                          TotalCases\nCountry,Other                                       \nUnited States                              2,182,951\nUnited Kingdom                               296,857\nIran (Islamic Republic of)                   189,876\nUnited Arab Emirates                          42,636\nKorea, Republic of                            12,155\nRepublic of Moldova                           11,879\nCzechia                                       10,066\nCote d'Ivoire                                  5,439\nDemocratic Republic of the Congo               4,837\nThe former Yugoslav Republic of Macedonia      4,157",
      "text/html": "<div>\n<style scoped>\n    .dataframe tbody tr th:only-of-type {\n        vertical-align: middle;\n    }\n\n    .dataframe tbody tr th {\n        vertical-align: top;\n    }\n\n    .dataframe thead th {\n        text-align: right;\n    }\n</style>\n<table border=\"1\" class=\"dataframe\">\n  <thead>\n    <tr style=\"text-align: right;\">\n      <th></th>\n      <th>TotalCases</th>\n    </tr>\n    <tr>\n      <th>Country,Other</th>\n      <th></th>\n    </tr>\n  </thead>\n  <tbody>\n    <tr>\n      <th>United States</th>\n      <td>2,182,951</td>\n    </tr>\n    <tr>\n      <th>United Kingdom</th>\n      <td>296,857</td>\n    </tr>\n    <tr>\n      <th>Iran (Islamic Republic of)</th>\n      <td>189,876</td>\n    </tr>\n    <tr>\n      <th>United Arab Emirates</th>\n      <td>42,636</td>\n    </tr>\n    <tr>\n      <th>Korea, Republic of</th>\n      <td>12,155</td>\n    </tr>\n    <tr>\n      <th>Republic of Moldova</th>\n      <td>11,879</td>\n    </tr>\n    <tr>\n      <th>Czechia</th>\n      <td>10,066</td>\n    </tr>\n    <tr>\n      <th>Cote d'Ivoire</th>\n      <td>5,439</td>\n    </tr>\n    <tr>\n      <th>Democratic Republic of the Congo</th>\n      <td>4,837</td>\n    </tr>\n    <tr>\n      <th>The former Yugoslav Republic of Macedonia</th>\n      <td>4,157</td>\n    </tr>\n  </tbody>\n</table>\n</div>"
     },
     "metadata": {},
     "execution_count": 39
    }
   ],
   "source": [
    "df_merge.head(10)"
   ]
  },
  {
   "cell_type": "code",
   "execution_count": null,
   "metadata": {},
   "outputs": [],
   "source": []
  }
 ],
 "metadata": {
  "kernelspec": {
   "display_name": "Python 3.7.6 64-bit ('jlml': conda)",
   "language": "python",
   "name": "python37664bitjlmlconda823288ade10744eab27a13100ebb26e4"
  },
  "language_info": {
   "codemirror_mode": {
    "name": "ipython",
    "version": 3
   },
   "file_extension": ".py",
   "mimetype": "text/x-python",
   "name": "python",
   "nbconvert_exporter": "python",
   "pygments_lexer": "ipython3",
   "version": "3.7.6-final"
  }
 },
 "nbformat": 4,
 "nbformat_minor": 2
}